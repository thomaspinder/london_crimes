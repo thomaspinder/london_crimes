{
 "cells": [
  {
   "cell_type": "markdown",
   "metadata": {
    "_uuid": "dea91064f03d95927a863c760d02887807ef348a"
   },
   "source": [
    "# Starting point: Big Query and London Crime\n",
    "This is my first attempt at looking at a dataset where the data is provided in the Big Query format on Kaggle. Getting to know how to use the Big Query datasets on Kaggle will allow me, in the future, to tackle some of the larger datasets and provide an opportunity to practise SQL queries on large databases that I am not familiar with. This is intended as a starting point for those that are keen to tackle Big Query datasets but aren't quite sure where to start. \n",
    "\n",
    "Firstly, let's see if we can read the data in and extract some insight with maybe a few plots. "
   ]
  },
  {
   "cell_type": "code",
   "execution_count": 1,
   "metadata": {
    "_cell_guid": "b1076dfc-b9ad-4769-8c92-a6c4dae69d19",
    "_kg_hide-input": true,
    "_kg_hide-output": true,
    "_uuid": "8f2839f25d086af736a60e9eeb907d3b93b6e0e5",
    "collapsed": true
   },
   "outputs": [],
   "source": [
    "# Usual imports that are needed for most analysis\n",
    "import numpy as np # linear algebra\n",
    "import pandas as pd # data processing, CSV file I/O (e.g. pd.read_csv)"
   ]
  },
  {
   "cell_type": "markdown",
   "metadata": {
    "_uuid": "c10d3cf576132d16986f47b76ba96e4ca098b9af"
   },
   "source": [
    "We are working with Big Query, so we are going to use a special package that allows us to the connect to the database, see things about the database, and run queries against it using SQL to extract information. More information about the package can be found [here](https://www.kaggle.com/sohier/introduction-to-the-bq-helper-package), and more generally getting started with Big Query can be found [here](https://www.kaggle.com/dansbecker/getting-started-with-sql-and-bigquery)."
   ]
  },
  {
   "cell_type": "code",
   "execution_count": 4,
   "metadata": {},
   "outputs": [],
   "source": [
    "%%bash\n",
    "export GOOGLE_APPLICATION_CREDENTIALS=\"/home/tpin3694/Documents/phd-hours-81c4006f26e7.json\""
   ]
  },
  {
   "cell_type": "code",
   "execution_count": 5,
   "metadata": {
    "_kg_hide-output": true,
    "_uuid": "89d7b4c45aa03365fd5bfce2ba3e44bbb7f78100",
    "collapsed": true
   },
   "outputs": [],
   "source": [
    "import bq_helper\n",
    "london = bq_helper.BigQueryHelper(active_project=\"bigquery-public-data\", dataset_name=\"london_crime\")"
   ]
  },
  {
   "cell_type": "markdown",
   "metadata": {
    "_uuid": "ad55df0615431b4901ecb701df07dfb92d4d60c2"
   },
   "source": [
    "## Initial exploration and get some data\n",
    "Now that we have access to the big query database, under the variable name `london` we can see what tables are included using the `.list_tables()` method. We can see below, in our case we have just the one table, so the reading in is simple with no joins required to get our hands on all the information. "
   ]
  },
  {
   "cell_type": "code",
   "execution_count": 7,
   "metadata": {
    "_cell_guid": "79c7e3d0-c299-4dcb-8224-4455121ee9b0",
    "_uuid": "d629ff2d2480ee46fbb7e2d37f6b5fab8052498a"
   },
   "outputs": [
    {
     "data": {
      "text/plain": [
       "['crime_by_lsoa']"
      ]
     },
     "execution_count": 7,
     "metadata": {},
     "output_type": "execute_result"
    }
   ],
   "source": [
    "london.list_tables()"
   ]
  },
  {
   "cell_type": "markdown",
   "metadata": {
    "_uuid": "a1c630ad09b1c92e104a83fb898436c8d64ed697"
   },
   "source": [
    "Let's have a look at the first few rows to get our bearings, using the `head()` method. "
   ]
  },
  {
   "cell_type": "code",
   "execution_count": 9,
   "metadata": {
    "_uuid": "fd2aaab7b959ea7c1aba4ede7877101e9976a57d"
   },
   "outputs": [
    {
     "data": {
      "text/html": [
       "<div>\n",
       "<style scoped>\n",
       "    .dataframe tbody tr th:only-of-type {\n",
       "        vertical-align: middle;\n",
       "    }\n",
       "\n",
       "    .dataframe tbody tr th {\n",
       "        vertical-align: top;\n",
       "    }\n",
       "\n",
       "    .dataframe thead th {\n",
       "        text-align: right;\n",
       "    }\n",
       "</style>\n",
       "<table border=\"1\" class=\"dataframe\">\n",
       "  <thead>\n",
       "    <tr style=\"text-align: right;\">\n",
       "      <th></th>\n",
       "      <th>lsoa_code</th>\n",
       "      <th>borough</th>\n",
       "      <th>major_category</th>\n",
       "      <th>minor_category</th>\n",
       "      <th>value</th>\n",
       "      <th>year</th>\n",
       "      <th>month</th>\n",
       "    </tr>\n",
       "  </thead>\n",
       "  <tbody>\n",
       "    <tr>\n",
       "      <th>0</th>\n",
       "      <td>E01032740</td>\n",
       "      <td>City of London</td>\n",
       "      <td>Violence Against the Person</td>\n",
       "      <td>Harassment</td>\n",
       "      <td>0</td>\n",
       "      <td>2016</td>\n",
       "      <td>11</td>\n",
       "    </tr>\n",
       "    <tr>\n",
       "      <th>1</th>\n",
       "      <td>E01000005</td>\n",
       "      <td>City of London</td>\n",
       "      <td>Violence Against the Person</td>\n",
       "      <td>Harassment</td>\n",
       "      <td>0</td>\n",
       "      <td>2011</td>\n",
       "      <td>3</td>\n",
       "    </tr>\n",
       "    <tr>\n",
       "      <th>2</th>\n",
       "      <td>E01032739</td>\n",
       "      <td>City of London</td>\n",
       "      <td>Violence Against the Person</td>\n",
       "      <td>Harassment</td>\n",
       "      <td>0</td>\n",
       "      <td>2016</td>\n",
       "      <td>12</td>\n",
       "    </tr>\n",
       "    <tr>\n",
       "      <th>3</th>\n",
       "      <td>E01000005</td>\n",
       "      <td>City of London</td>\n",
       "      <td>Violence Against the Person</td>\n",
       "      <td>Harassment</td>\n",
       "      <td>0</td>\n",
       "      <td>2011</td>\n",
       "      <td>11</td>\n",
       "    </tr>\n",
       "    <tr>\n",
       "      <th>4</th>\n",
       "      <td>E01000005</td>\n",
       "      <td>City of London</td>\n",
       "      <td>Violence Against the Person</td>\n",
       "      <td>Harassment</td>\n",
       "      <td>0</td>\n",
       "      <td>2014</td>\n",
       "      <td>3</td>\n",
       "    </tr>\n",
       "  </tbody>\n",
       "</table>\n",
       "</div>"
      ],
      "text/plain": [
       "   lsoa_code         borough               major_category minor_category  \\\n",
       "0  E01032740  City of London  Violence Against the Person     Harassment   \n",
       "1  E01000005  City of London  Violence Against the Person     Harassment   \n",
       "2  E01032739  City of London  Violence Against the Person     Harassment   \n",
       "3  E01000005  City of London  Violence Against the Person     Harassment   \n",
       "4  E01000005  City of London  Violence Against the Person     Harassment   \n",
       "\n",
       "   value  year  month  \n",
       "0      0  2016     11  \n",
       "1      0  2011      3  \n",
       "2      0  2016     12  \n",
       "3      0  2011     11  \n",
       "4      0  2014      3  "
      ]
     },
     "execution_count": 9,
     "metadata": {},
     "output_type": "execute_result"
    }
   ],
   "source": [
    "london.head('crime_by_lsoa') "
   ]
  },
  {
   "cell_type": "markdown",
   "metadata": {
    "_uuid": "36854913e788f77a6539a93c76d99100c2ac4f5c"
   },
   "source": [
    "We can see that we have  7 columns: \n",
    "- **lsoa_code**: this represents a policing area \n",
    "- **borough**: the london borough for which the statistic is related\n",
    "- **major_category**: the major crime category\n",
    "- **minor_category**: the minor crime category\n",
    "- **value**: the count of the crime for that particular borough, in that particular month\n",
    "- **year**: the year of the summary statistic\n",
    "- **month**: the month of the summary statistic"
   ]
  },
  {
   "cell_type": "markdown",
   "metadata": {
    "_uuid": "2db6fa9e840586dd15e509a57a7d28f3b6f9fe37"
   },
   "source": [
    "## How many boroughs?\n",
    "Now that we have a better understanding of the data at our disposable, we can start thinking about the sort of questions that we might be able to ask. \n",
    "\n",
    "Let's start with a simple query to get started to see how many boroughs are represented in the `crime_by_lsoa` table. \n",
    "\n",
    "Querying the data takes, at its simplest, two steps:\n",
    "1. Writing a query to perform\n",
    "2. Performing the query and storing the information (in my case as a pandas data frame)"
   ]
  },
  {
   "cell_type": "code",
   "execution_count": 10,
   "metadata": {
    "_uuid": "65d59894b25dd57d6c0dc390b39b61c591d5894d"
   },
   "outputs": [
    {
     "data": {
      "text/html": [
       "<div>\n",
       "<style scoped>\n",
       "    .dataframe tbody tr th:only-of-type {\n",
       "        vertical-align: middle;\n",
       "    }\n",
       "\n",
       "    .dataframe tbody tr th {\n",
       "        vertical-align: top;\n",
       "    }\n",
       "\n",
       "    .dataframe thead th {\n",
       "        text-align: right;\n",
       "    }\n",
       "</style>\n",
       "<table border=\"1\" class=\"dataframe\">\n",
       "  <thead>\n",
       "    <tr style=\"text-align: right;\">\n",
       "      <th></th>\n",
       "      <th>borough</th>\n",
       "    </tr>\n",
       "  </thead>\n",
       "  <tbody>\n",
       "    <tr>\n",
       "      <th>0</th>\n",
       "      <td>City of London</td>\n",
       "    </tr>\n",
       "    <tr>\n",
       "      <th>1</th>\n",
       "      <td>Brent</td>\n",
       "    </tr>\n",
       "    <tr>\n",
       "      <th>2</th>\n",
       "      <td>Barnet</td>\n",
       "    </tr>\n",
       "    <tr>\n",
       "      <th>3</th>\n",
       "      <td>Bexley</td>\n",
       "    </tr>\n",
       "    <tr>\n",
       "      <th>4</th>\n",
       "      <td>Camden</td>\n",
       "    </tr>\n",
       "    <tr>\n",
       "      <th>5</th>\n",
       "      <td>Ealing</td>\n",
       "    </tr>\n",
       "    <tr>\n",
       "      <th>6</th>\n",
       "      <td>Harrow</td>\n",
       "    </tr>\n",
       "    <tr>\n",
       "      <th>7</th>\n",
       "      <td>Merton</td>\n",
       "    </tr>\n",
       "    <tr>\n",
       "      <th>8</th>\n",
       "      <td>Newham</td>\n",
       "    </tr>\n",
       "    <tr>\n",
       "      <th>9</th>\n",
       "      <td>Sutton</td>\n",
       "    </tr>\n",
       "    <tr>\n",
       "      <th>10</th>\n",
       "      <td>Bromley</td>\n",
       "    </tr>\n",
       "    <tr>\n",
       "      <th>11</th>\n",
       "      <td>Croydon</td>\n",
       "    </tr>\n",
       "    <tr>\n",
       "      <th>12</th>\n",
       "      <td>Enfield</td>\n",
       "    </tr>\n",
       "    <tr>\n",
       "      <th>13</th>\n",
       "      <td>Hackney</td>\n",
       "    </tr>\n",
       "    <tr>\n",
       "      <th>14</th>\n",
       "      <td>Lambeth</td>\n",
       "    </tr>\n",
       "    <tr>\n",
       "      <th>15</th>\n",
       "      <td>Haringey</td>\n",
       "    </tr>\n",
       "    <tr>\n",
       "      <th>16</th>\n",
       "      <td>Havering</td>\n",
       "    </tr>\n",
       "    <tr>\n",
       "      <th>17</th>\n",
       "      <td>Hounslow</td>\n",
       "    </tr>\n",
       "    <tr>\n",
       "      <th>18</th>\n",
       "      <td>Lewisham</td>\n",
       "    </tr>\n",
       "    <tr>\n",
       "      <th>19</th>\n",
       "      <td>Greenwich</td>\n",
       "    </tr>\n",
       "    <tr>\n",
       "      <th>20</th>\n",
       "      <td>Islington</td>\n",
       "    </tr>\n",
       "    <tr>\n",
       "      <th>21</th>\n",
       "      <td>Redbridge</td>\n",
       "    </tr>\n",
       "    <tr>\n",
       "      <th>22</th>\n",
       "      <td>Southwark</td>\n",
       "    </tr>\n",
       "    <tr>\n",
       "      <th>23</th>\n",
       "      <td>Hillingdon</td>\n",
       "    </tr>\n",
       "    <tr>\n",
       "      <th>24</th>\n",
       "      <td>Wandsworth</td>\n",
       "    </tr>\n",
       "    <tr>\n",
       "      <th>25</th>\n",
       "      <td>Westminster</td>\n",
       "    </tr>\n",
       "    <tr>\n",
       "      <th>26</th>\n",
       "      <td>Tower Hamlets</td>\n",
       "    </tr>\n",
       "    <tr>\n",
       "      <th>27</th>\n",
       "      <td>Waltham Forest</td>\n",
       "    </tr>\n",
       "    <tr>\n",
       "      <th>28</th>\n",
       "      <td>Barking and Dagenham</td>\n",
       "    </tr>\n",
       "    <tr>\n",
       "      <th>29</th>\n",
       "      <td>Kingston upon Thames</td>\n",
       "    </tr>\n",
       "    <tr>\n",
       "      <th>30</th>\n",
       "      <td>Richmond upon Thames</td>\n",
       "    </tr>\n",
       "    <tr>\n",
       "      <th>31</th>\n",
       "      <td>Hammersmith and Fulham</td>\n",
       "    </tr>\n",
       "    <tr>\n",
       "      <th>32</th>\n",
       "      <td>Kensington and Chelsea</td>\n",
       "    </tr>\n",
       "  </tbody>\n",
       "</table>\n",
       "</div>"
      ],
      "text/plain": [
       "                   borough\n",
       "0           City of London\n",
       "1                    Brent\n",
       "2                   Barnet\n",
       "3                   Bexley\n",
       "4                   Camden\n",
       "5                   Ealing\n",
       "6                   Harrow\n",
       "7                   Merton\n",
       "8                   Newham\n",
       "9                   Sutton\n",
       "10                 Bromley\n",
       "11                 Croydon\n",
       "12                 Enfield\n",
       "13                 Hackney\n",
       "14                 Lambeth\n",
       "15                Haringey\n",
       "16                Havering\n",
       "17                Hounslow\n",
       "18                Lewisham\n",
       "19               Greenwich\n",
       "20               Islington\n",
       "21               Redbridge\n",
       "22               Southwark\n",
       "23              Hillingdon\n",
       "24              Wandsworth\n",
       "25             Westminster\n",
       "26           Tower Hamlets\n",
       "27          Waltham Forest\n",
       "28    Barking and Dagenham\n",
       "29    Kingston upon Thames\n",
       "30    Richmond upon Thames\n",
       "31  Hammersmith and Fulham\n",
       "32  Kensington and Chelsea"
      ]
     },
     "execution_count": 10,
     "metadata": {},
     "output_type": "execute_result"
    }
   ],
   "source": [
    "# Write the query that we want to perform\n",
    "# Select the distinct boroughs from our one table\n",
    "boroughs_count = \"\"\"\n",
    "SELECT DISTINCT borough\n",
    "FROM `bigquery-public-data.london_crime.crime_by_lsoa`;\n",
    "        \"\"\"\n",
    "\n",
    "# Perform the query and store the result\n",
    "boroughs = london.query_to_pandas_safe(boroughs_count)\n",
    "boroughs"
   ]
  },
  {
   "cell_type": "markdown",
   "metadata": {
    "_uuid": "96bef917490346f864c1c492dee4b28cfe3fe4b9"
   },
   "source": [
    "This tells us that we 33 boroughs that we could potentially investigate. \n",
    "Let's perform another, slightly more complicated (with grouping and a summary variable), query to see what is happening with general crime rates in Camden, as an example. \n",
    "\n",
    "## Crime in Camden\n",
    "To track this over time, we are going to filter by `borough`, group by the `year` and `month` and get the sum of all recorded crimes (I will alias this as `total_crime`). "
   ]
  },
  {
   "cell_type": "code",
   "execution_count": 11,
   "metadata": {
    "_uuid": "746331fb68a60eec57d5ec01bce2bc5635e944c3"
   },
   "outputs": [
    {
     "data": {
      "text/html": [
       "<div>\n",
       "<style scoped>\n",
       "    .dataframe tbody tr th:only-of-type {\n",
       "        vertical-align: middle;\n",
       "    }\n",
       "\n",
       "    .dataframe tbody tr th {\n",
       "        vertical-align: top;\n",
       "    }\n",
       "\n",
       "    .dataframe thead th {\n",
       "        text-align: right;\n",
       "    }\n",
       "</style>\n",
       "<table border=\"1\" class=\"dataframe\">\n",
       "  <thead>\n",
       "    <tr style=\"text-align: right;\">\n",
       "      <th></th>\n",
       "      <th>year</th>\n",
       "      <th>month</th>\n",
       "      <th>total_crime</th>\n",
       "    </tr>\n",
       "  </thead>\n",
       "  <tbody>\n",
       "    <tr>\n",
       "      <th>0</th>\n",
       "      <td>2013</td>\n",
       "      <td>1</td>\n",
       "      <td>2535</td>\n",
       "    </tr>\n",
       "    <tr>\n",
       "      <th>1</th>\n",
       "      <td>2010</td>\n",
       "      <td>9</td>\n",
       "      <td>2553</td>\n",
       "    </tr>\n",
       "    <tr>\n",
       "      <th>2</th>\n",
       "      <td>2012</td>\n",
       "      <td>6</td>\n",
       "      <td>2645</td>\n",
       "    </tr>\n",
       "    <tr>\n",
       "      <th>3</th>\n",
       "      <td>2015</td>\n",
       "      <td>6</td>\n",
       "      <td>2566</td>\n",
       "    </tr>\n",
       "    <tr>\n",
       "      <th>4</th>\n",
       "      <td>2010</td>\n",
       "      <td>8</td>\n",
       "      <td>2529</td>\n",
       "    </tr>\n",
       "  </tbody>\n",
       "</table>\n",
       "</div>"
      ],
      "text/plain": [
       "   year  month  total_crime\n",
       "0  2013      1         2535\n",
       "1  2010      9         2553\n",
       "2  2012      6         2645\n",
       "3  2015      6         2566\n",
       "4  2010      8         2529"
      ]
     },
     "execution_count": 11,
     "metadata": {},
     "output_type": "execute_result"
    }
   ],
   "source": [
    "# Query to select Camden's crime stats by year and month\n",
    "camden_crime_query = \"\"\"\n",
    "SELECT year, month, sum(value) AS `total_crime`\n",
    "FROM `bigquery-public-data.london_crime.crime_by_lsoa`\n",
    "WHERE borough = 'Camden'\n",
    "GROUP BY year, month;\n",
    "        \"\"\"\n",
    "\n",
    "# Perform and store the query results \n",
    "camden_crime = london.query_to_pandas_safe(camden_crime_query)\n",
    "camden_crime.head()"
   ]
  },
  {
   "cell_type": "code",
   "execution_count": null,
   "metadata": {
    "_uuid": "1cfac7b9ce330284d40a58707475295c9021f2e3"
   },
   "outputs": [],
   "source": [
    "camden_crime.describe().total_crime"
   ]
  },
  {
   "cell_type": "code",
   "execution_count": null,
   "metadata": {},
   "outputs": [],
   "source": []
  },
  {
   "cell_type": "markdown",
   "metadata": {
    "_uuid": "a128d0a3d6d297b9d1790d326c54cdcca218fa0d"
   },
   "source": [
    "Having a look at the `total_crime` column of our summary table for Camden, we can tell immediately that we have 108 months worth of data that has been collected (9 years), with a mean of 2547 recorded crimes per month, but a range of over 1000. Let's see if visualising the data can tell us anything more interesting about the trends. Remember that we don't need to run the query again, we should have all the information that we need already in the `camden_crime` data frame. "
   ]
  },
  {
   "cell_type": "code",
   "execution_count": null,
   "metadata": {
    "_uuid": "a8d3a35c589facd23e779f4c3f0d9ab415c38d14"
   },
   "outputs": [],
   "source": [
    "camden_crime = camden_crime.sort_values(['year', 'month']) # Sort the data frame by year and month to make them chronological\n",
    "camden_crime.head()"
   ]
  },
  {
   "cell_type": "markdown",
   "metadata": {
    "_uuid": "7bd4a4273c43b7efb041332c68670734bf977765"
   },
   "source": [
    "I have sorted the data frame purely so that things now appear in chronilogical order. Let's have a look at the current indexing to see if we can leverage the power of `pandas` and use the dates that we have as the index. "
   ]
  },
  {
   "cell_type": "code",
   "execution_count": null,
   "metadata": {
    "_uuid": "0f97336ac84bce14861ea0ac15043454c091e232"
   },
   "outputs": [],
   "source": [
    "camden_crime.index"
   ]
  },
  {
   "cell_type": "markdown",
   "metadata": {
    "_uuid": "d8c1e76d415953fb9a26f6212968c6139a057f34"
   },
   "source": [
    "`camden_crime` is currently just using the basic index, which appears to be all over the place because we have sorted the data to follow the `year` and `month` columns. The first step we can do is to convert the year and month information that we have to a datetime format. Once we have that, then we can use `set_index` to complete the process and have `camden_crime` indexed by a date for easier manipulation. "
   ]
  },
  {
   "cell_type": "code",
   "execution_count": null,
   "metadata": {
    "_uuid": "6a28970ed3c8c2869d74f16bcd0d19d641d690a1",
    "collapsed": true
   },
   "outputs": [],
   "source": [
    "camden_crime['date'] = pd.to_datetime(camden_crime.year.map(str) + '-' + camden_crime.month.map(str), format = '%Y-%m')\n",
    "camden_crime.set_index('date', inplace=True)"
   ]
  },
  {
   "cell_type": "markdown",
   "metadata": {
    "_uuid": "77f81f40c6c4f7532364a11780e500cd270849e0"
   },
   "source": [
    "We have now reindexed the data frame with a datetime version of the `year` and `month` column. Let's plot the trend and see if there is anything interesting at play here. "
   ]
  },
  {
   "cell_type": "code",
   "execution_count": 12,
   "metadata": {
    "_uuid": "ebe306fa894d40c69763ed2e0faef853e3676ac8"
   },
   "outputs": [
    {
     "data": {
      "image/png": "[encoded data removed]",
      "text/plain": [
       "<Figure size 1080x432 with 1 Axes>"
      ]
     },
     "metadata": {},
     "output_type": "display_data"
    }
   ],
   "source": [
    "import matplotlib.pyplot as plt\n",
    "camden_crime.total_crime.plot(figsize=(15, 6))\n",
    "plt.title('Total crime in Camden')\n",
    "plt.ylabel('Total crime per month')\n",
    "plt.xlabel('')\n",
    "plt.show()"
   ]
  },
  {
   "cell_type": "markdown",
   "metadata": {
    "_uuid": "4c35105478018718f690a773438b023d98c12958"
   },
   "source": [
    "It appears as though crime was roughly on the rise between 2008 and 2011, and then dropped steeply after 2012, before re-establishing an upward trend post-2014. It also appears to fluctuate wildly throughout the months, so I imagine there is some seasonal impact here. "
   ]
  },
  {
   "cell_type": "code",
   "execution_count": null,
   "metadata": {
    "_uuid": "3c80b79143669995e791a6422f8bc7fa5d0c207c",
    "collapsed": true
   },
   "outputs": [],
   "source": [
    "cc08_10 = camden_crime.loc['2008':'2010',] # Filter using the datetime index"
   ]
  },
  {
   "cell_type": "code",
   "execution_count": null,
   "metadata": {
    "_uuid": "3997fbfccd0317062bd32b0aee6c819b7b1893c0"
   },
   "outputs": [],
   "source": [
    "cc08_10.total_crime.plot(figsize=(15, 6))\n",
    "plt.title('Total crime in Camden')\n",
    "plt.ylabel('Total crime per month')\n",
    "plt.show()"
   ]
  },
  {
   "cell_type": "markdown",
   "metadata": {
    "_uuid": "83eb51cece510fc31d178208ffbefded3dea5d21"
   },
   "source": [
    "There are no clear seasonal trends to my eye, perhaps they are clearer when the data is subsetted by the type of crime; some crimes happen more when it is hot, while others thrive in the cold. However, to have that information, we will have to go back and change the initial query so that we also group by the `major_category` (we could also include the `minor_category` but the numbers may be high enough for certain crime types to yeild informative results).\n",
    "\n",
    "Even if we don't unearth any significant seasonal trends, it will be good to have a deeper look at crime rates in Camden across the years. \n",
    "\n",
    "### Delving deeper using `major_category`"
   ]
  },
  {
   "cell_type": "code",
   "execution_count": null,
   "metadata": {
    "_uuid": "1296deb9cfe03b24bc65418ced7ca70bc1bee248"
   },
   "outputs": [],
   "source": [
    "# Query adapted from previous to also group by major_category of crime\n",
    "camden_major_query = \"\"\"\n",
    "SELECT year, month, major_category, sum(value) AS `total_crime`\n",
    "FROM `bigquery-public-data.london_crime.crime_by_lsoa`\n",
    "WHERE borough = 'Camden'\n",
    "GROUP BY year, month, major_category\n",
    "ORDER BY year, month;\n",
    "        \"\"\"\n",
    "# Perform and store the query results\n",
    "camden_major = london.query_to_pandas_safe(camden_major_query)\n",
    "camden_major.head()"
   ]
  },
  {
   "cell_type": "markdown",
   "metadata": {
    "_uuid": "3723eafb8f980f09261a66aff758d0f51f847ff2"
   },
   "source": [
    "I have added an additional grouping of `major_category` after the `year` and `month`. This adds a further breakdown to the `total_crime` column that we had from the previous query. \n",
    "\n",
    "Now that we have the results in a pandas data frame, we are able to perform some cleaning and manipulations easily in preparation for plotting in a moment. The steps that I'm going to get to that stage are: \n",
    "1. Create a column for the datetime object (as I previously did with the other query) (Set the date time as the index using `set_index`)\n",
    "2. Spread the major category to make the data wide, rather than long using the `pivot` function (This will allow for us to use the `subplots=True` argument with `matplotlib`)"
   ]
  },
  {
   "cell_type": "code",
   "execution_count": null,
   "metadata": {
    "_uuid": "1725c59751300dcfc3736c7c9202eea92734ee2d"
   },
   "outputs": [],
   "source": [
    "camden_major['date'] = pd.to_datetime(camden_major.year.map(str) + '-' + camden_major.month.map(str), format = '%Y-%m')\n",
    "camden_major.drop(columns = ['year', 'month'], inplace = True)\n",
    "camden_major.head()"
   ]
  },
  {
   "cell_type": "code",
   "execution_count": null,
   "metadata": {
    "_uuid": "9cc5d21cc9d88ebda8817463a7084e1e00c19c7b",
    "collapsed": true
   },
   "outputs": [],
   "source": [
    "camden_major_pivot = camden_major.pivot(index = 'date', columns = 'major_category', values = 'total_crime')"
   ]
  },
  {
   "cell_type": "code",
   "execution_count": null,
   "metadata": {
    "_uuid": "9f0b564d0c0c9f028fafe7d9927a888175890190"
   },
   "outputs": [],
   "source": [
    "camden_major_pivot.plot(subplots = True, figsize=(15, 15))\n",
    "plt.show()"
   ]
  },
  {
   "cell_type": "markdown",
   "metadata": {
    "_uuid": "3bea7ac13ce022ba46c2a0d62e7b7c24b015e487"
   },
   "source": [
    "The most striking insight that we have gained from this plot is the complete lack of *Fraud or Forgery* or *Sexual Offences* after the first few months of data. This can be seen if we view the first 10 rows of our pivot table as well.  "
   ]
  },
  {
   "cell_type": "code",
   "execution_count": null,
   "metadata": {
    "_uuid": "6562ac5dafa6b381ad51f210f91524a436a9217e"
   },
   "outputs": [],
   "source": [
    "camden_major_pivot.head()"
   ]
  },
  {
   "cell_type": "markdown",
   "metadata": {
    "_uuid": "3c7714e4594dee34d6cbcb77af971bee28b603fc"
   },
   "source": [
    "We can check whether this was an error I have after the query, or whether the information for those months hasn't been recorded in the data for whatever reason. "
   ]
  },
  {
   "cell_type": "code",
   "execution_count": null,
   "metadata": {
    "_uuid": "d4e10a45b4ddb44e618025c739cf8199e9df250f",
    "collapsed": true
   },
   "outputs": [],
   "source": [
    "sanity_check_query = \"\"\"\n",
    "SELECT year, month, borough, major_category, minor_category, value\n",
    "FROM `bigquery-public-data.london_crime.crime_by_lsoa`\n",
    "WHERE borough = 'Camden' \n",
    "AND (major_category = 'Sexual Offences' OR major_category = 'Fraud or Forgery')\n",
    "AND year > 2008\n",
    "ORDER BY year, month;\n",
    "        \"\"\"\n",
    "sanity_check = london.query_to_pandas_safe(sanity_check_query)"
   ]
  },
  {
   "cell_type": "code",
   "execution_count": null,
   "metadata": {
    "_uuid": "ec0dd31019748d1ca36ae35200bf97e3cf1afabd"
   },
   "outputs": [],
   "source": [
    "sanity_check"
   ]
  },
  {
   "cell_type": "markdown",
   "metadata": {
    "_uuid": "0d639473f693b7e9ebee57164ac2c1ba030d854a"
   },
   "source": [
    "Having performed a secondary check to make sure I hadn't accidentally removed data with my pivot table, it seems as though there is a lack of information regarding those major categories of crime for Camden after February 2008. \n",
    "\n",
    "If you can see a mistake that I've made, or I've done something stupid, then please leave a comment and let me know! "
   ]
  },
  {
   "cell_type": "markdown",
   "metadata": {
    "_uuid": "82c922d13c140dcd4ae255789e1ff401ea9a9cb3"
   },
   "source": [
    "### What types of crimes are growing the fastest? \n",
    "Instead of looking at it from a borough-centric view as an example, we can have a look at the changes for total `major_category` across time. "
   ]
  },
  {
   "cell_type": "code",
   "execution_count": null,
   "metadata": {
    "_uuid": "a0c4aaa69169c1552c2272500a902fafe24ffb39",
    "collapsed": true
   },
   "outputs": [],
   "source": [
    "# Write our query to track the changes in yearly crime count per major_category\n",
    "growing_crime_query = \"\"\"\n",
    "SELECT year, major_category, sum(value) as `total_crime` \n",
    "FROM `bigquery-public-data.london_crime.crime_by_lsoa`\n",
    "GROUP BY major_category, year\n",
    "ORDER BY major_category, year;\n",
    "        \"\"\"\n",
    "\n",
    "london.estimate_query_size(growing_crime_query) # We can estimate the size of our query this way\n",
    "growing_crime = london.query_to_pandas(growing_crime_query) # Execute the query and gather the results "
   ]
  },
  {
   "cell_type": "code",
   "execution_count": null,
   "metadata": {
    "_kg_hide-input": true,
    "_uuid": "092876a049373f8c02ea6479cb38a584684a490b"
   },
   "outputs": [],
   "source": [
    "growing_crime.head(15)"
   ]
  },
  {
   "cell_type": "markdown",
   "metadata": {
    "_uuid": "8c7b2c6ea05cea4d8c54072933269e5431c80697"
   },
   "source": [
    "We can see that we have the total crime counts for the major categories across all the years in the data set. Lets plot them and see which crimes are on the rise in London. \n"
   ]
  },
  {
   "cell_type": "code",
   "execution_count": null,
   "metadata": {
    "_uuid": "268793fc8612afb1f95ff95ecb0818a0c0ea7210"
   },
   "outputs": [],
   "source": [
    "growing_crime.set_index(pd.to_datetime(growing_crime.year, format = '%Y'), inplace = True)\n",
    "growing_crime.head()"
   ]
  },
  {
   "cell_type": "code",
   "execution_count": null,
   "metadata": {
    "_kg_hide-input": true,
    "_uuid": "40f3fa44f72540e0440d9d4ea489b4a0419eb8e8"
   },
   "outputs": [],
   "source": [
    "growing_crime.drop(columns = ['year'], inplace = True) # Remove the year column since the information is now held in the index\n",
    "growing_crime_pivot = growing_crime.pivot(columns = 'major_category', values = 'total_crime') # Pivot to make each category a column\n",
    "growing_crime_pivot.plot(subplots = True, figsize=(20, 15), layout = (5, 2)) # Subplotting to see all plots separately - important since vastly different scales\n",
    "plt.show() # Show plot"
   ]
  },
  {
   "cell_type": "markdown",
   "metadata": {
    "_uuid": "bd3d7b06094b970c50ed4d4d26d653f672841d4a"
   },
   "source": [
    "The crimes that appear to be increasing are:\n",
    "- Violence against the person\n",
    "- Other notifiable offences \n",
    "\n",
    "All the other crimes appear to be in reasonable decline; although note the scaling for the y axis being different for each plot, so while we can see trends, the scales aren't truly comparable. We could calculate the percentage change for each of the major categories, which would give us a better indication as to the true problem crimes that aren't being tackled. \n",
    "\n",
    "*NB: we have double checked our thoughts about the Sexual Offences and Fraud or Forgery major categories here, with records of them seemingly disappearing after the first year (2008).*"
   ]
  },
  {
   "cell_type": "markdown",
   "metadata": {
    "_uuid": "aa3dec7c616097c93cfb06438a319881584aaf1c"
   },
   "source": [
    "## Analysis Flexibility \n",
    "While working with Big Query, we are really given two options to how we are able to conduct our analysis and do our calculations:\n",
    "1. Within the original SQL query\n",
    "2. Working with the pandas data frame that is produced when the query is run\n",
    "\n",
    "I suppose which you preference is probably a personal choice, depending on the task and your strengths with the languages involved. I just wanted to demonstrate this through solving one problem using both methods: by changing the original query to add the column, or adding it afterwards using python. \n",
    "\n",
    "__*Can we add a column that shows the percentage change from the previous year for each major cirme category?*__\n",
    "\n",
    "### Python (use pandas):\n",
    "\n"
   ]
  },
  {
   "cell_type": "code",
   "execution_count": null,
   "metadata": {
    "_uuid": "844772f44a9eb6616ea25cced32803ba6c41eb62"
   },
   "outputs": [],
   "source": [
    "# Calculate the percent change from the previous year's figure\n",
    "growing_crime['percent_change'] = growing_crime['total_crime'] / growing_crime['total_crime'].groupby(growing_crime['major_category']).shift(1) - 1\n",
    "# NB I tried to use pct_change() but couldn't get it to work with a groupby() as well\n",
    "growing_crime.head(20)"
   ]
  },
  {
   "cell_type": "markdown",
   "metadata": {
    "_uuid": "944b1c36c1951af9cdad0f5830f1c8f39c85c0e2"
   },
   "source": [
    "### SQL (change the original query):"
   ]
  },
  {
   "cell_type": "code",
   "execution_count": null,
   "metadata": {
    "_uuid": "bc8316fe0e4281f6075b4de14055489e5f30989a",
    "collapsed": true
   },
   "outputs": [],
   "source": [
    "# Write our query to track the changes in yearly crime count per major_category\n",
    "growing_crime_query_2 = \"\"\"\n",
    "SELECT \n",
    "    year, \n",
    "    major_category, \n",
    "    SUM(value) as `total_crime`,\n",
    "    CASE WHEN SUM(value) > 0\n",
    "        THEN SUM(value) / LAG(SUM(value) , 1 , NULL) OVER (PARTITION BY major_category ORDER BY year ASC) - 1\n",
    "        ELSE 0 END AS `percent_change`\n",
    "FROM `bigquery-public-data.london_crime.crime_by_lsoa`\n",
    "GROUP BY major_category, year\n",
    "ORDER BY major_category, year;\n",
    "        \"\"\"\n",
    "\n",
    "growing_crime_2 = london.query_to_pandas(growing_crime_query_2) # Execute the query and gather the results "
   ]
  },
  {
   "cell_type": "code",
   "execution_count": null,
   "metadata": {
    "_uuid": "5554eebb01325dc3065bfa0108d54cfc6e5566e6"
   },
   "outputs": [],
   "source": [
    "growing_crime_2.head(20)"
   ]
  },
  {
   "cell_type": "markdown",
   "metadata": {
    "_uuid": "d85a05da0fe04b73d6162694a91ff188081efcd9"
   },
   "source": [
    "There we go! We can see that we have produced, essentially, the same results through the two different methods that I talked about. "
   ]
  },
  {
   "cell_type": "markdown",
   "metadata": {
    "_uuid": "699cf8c0247a7c7e7e8564493017e110ad40d2b1"
   },
   "source": [
    "- - - - -\n",
    "### Conclusions and final comments\n",
    "This is just a simple introduction to querying the Big Query datasets using `bq_helper`. I may explore further over time so it may become more fleshed out in the coming weeks/months. \n",
    "\n",
    "Thank you for taking the time to have a look through, and follow my workflow through the process of learning some more about Big Query. Please consider leaving an upvote if you think it is worth it, and please leave a comment if you have any feedback, constructive comments and suggestions are always welcome and appreciated!"
   ]
  }
 ],
 "metadata": {
  "kernelspec": {
   "display_name": "Python 3",
   "language": "python",
   "name": "python3"
  },
  "language_info": {
   "codemirror_mode": {
    "name": "ipython",
    "version": 3
   },
   "file_extension": ".py",
   "mimetype": "text/x-python",
   "name": "python",
   "nbconvert_exporter": "python",
   "pygments_lexer": "ipython3",
   "version": "3.6.4"
  }
 },
 "nbformat": 4,
 "nbformat_minor": 2
}
